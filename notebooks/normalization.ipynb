{
 "cells": [
  {
   "cell_type": "code",
   "execution_count": 1,
   "id": "e22a5c40",
   "metadata": {},
   "outputs": [],
   "source": [
    "import torch\n",
    "import torch.nn as nn"
   ]
  },
  {
   "cell_type": "code",
   "execution_count": 6,
   "id": "3f364723",
   "metadata": {},
   "outputs": [
    {
     "data": {
      "text/plain": [
       "tensor([[ 0.7971, -2.5684,  1.7885, -0.8256,  1.8479, -1.0657],\n",
       "        [ 0.3200, -0.1428, -1.1862, -2.0696,  0.5006, -0.1100],\n",
       "        [-0.5259, -1.5950,  0.9015, -0.8280, -1.9244,  1.3996]])"
      ]
     },
     "execution_count": 6,
     "metadata": {},
     "output_type": "execute_result"
    }
   ],
   "source": [
    "outputs = torch.randn(3,6)\n",
    "outputs "
   ]
  },
  {
   "cell_type": "code",
   "execution_count": 7,
   "id": "8db480f6",
   "metadata": {},
   "outputs": [
    {
     "data": {
      "text/plain": [
       "tensor([[-0.0044],\n",
       "        [-0.4480],\n",
       "        [-0.4287]])"
      ]
     },
     "execution_count": 7,
     "metadata": {},
     "output_type": "execute_result"
    }
   ],
   "source": [
    "outputs.mean( dim=1, keepdim=True )"
   ]
  },
  {
   "cell_type": "code",
   "execution_count": 8,
   "id": "17521ed2",
   "metadata": {},
   "outputs": [
    {
     "data": {
      "text/plain": [
       "tensor([[1.7699],\n",
       "        [0.9871],\n",
       "        [1.3325]])"
      ]
     },
     "execution_count": 8,
     "metadata": {},
     "output_type": "execute_result"
    }
   ],
   "source": [
    "outputs.std( dim=1, keepdim=True )"
   ]
  },
  {
   "cell_type": "code",
   "execution_count": 9,
   "id": "3b95937d",
   "metadata": {},
   "outputs": [],
   "source": [
    "torch.set_printoptions( sci_mode=False )"
   ]
  },
  {
   "cell_type": "code",
   "execution_count": null,
   "id": "6b29c1a5",
   "metadata": {},
   "outputs": [],
   "source": [
    "class LayerNorm1d(nn.Module):\n",
    "    def __init__(self, emb_dim):\n",
    "        super.__init__()\n",
    "        "
   ]
  }
 ],
 "metadata": {
  "kernelspec": {
   "display_name": ".env",
   "language": "python",
   "name": "python3"
  },
  "language_info": {
   "codemirror_mode": {
    "name": "ipython",
    "version": 3
   },
   "file_extension": ".py",
   "mimetype": "text/x-python",
   "name": "python",
   "nbconvert_exporter": "python",
   "pygments_lexer": "ipython3",
   "version": "3.12.1"
  }
 },
 "nbformat": 4,
 "nbformat_minor": 5
}
