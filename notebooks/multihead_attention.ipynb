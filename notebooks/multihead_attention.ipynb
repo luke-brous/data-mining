{
 "cells": [
  {
   "cell_type": "code",
   "execution_count": 2,
   "id": "4c91df1c",
   "metadata": {},
   "outputs": [],
   "source": [
    "import torch"
   ]
  },
  {
   "cell_type": "code",
   "execution_count": 4,
   "id": "873a12e5",
   "metadata": {},
   "outputs": [],
   "source": [
    "# Create inputs\n",
    "inputs = torch.nn.Embedding( 4, 8)"
   ]
  },
  {
   "cell_type": "code",
   "execution_count": 6,
   "id": "29120193",
   "metadata": {},
   "outputs": [],
   "source": [
    "inputs = inputs.weight\n",
    "inputs = inputs.data"
   ]
  },
  {
   "cell_type": "code",
   "execution_count": null,
   "id": "af35c5f7",
   "metadata": {},
   "outputs": [],
   "source": [
    "# Create a batch of inputs. This determines d_in and context_length.\n",
    "batches = torch.stack((inputs, inputs), dim = 0)\n"
   ]
  },
  {
   "cell_type": "code",
   "execution_count": 3,
   "id": "85e9a2ba",
   "metadata": {},
   "outputs": [],
   "source": [
    "# Create a batch of inputs. This determines d_in and context_length.\n",
    "\n"
   ]
  },
  {
   "cell_type": "code",
   "execution_count": null,
   "id": "2432a50d",
   "metadata": {},
   "outputs": [],
   "source": [
    "# causal attention mechanism\n"
   ]
  }
 ],
 "metadata": {
  "kernelspec": {
   "display_name": ".env",
   "language": "python",
   "name": "python3"
  },
  "language_info": {
   "codemirror_mode": {
    "name": "ipython",
    "version": 3
   },
   "file_extension": ".py",
   "mimetype": "text/x-python",
   "name": "python",
   "nbconvert_exporter": "python",
   "pygments_lexer": "ipython3",
   "version": "3.12.1"
  }
 },
 "nbformat": 4,
 "nbformat_minor": 5
}
