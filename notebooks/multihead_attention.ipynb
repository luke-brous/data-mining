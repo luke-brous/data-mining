{
 "cells": [
  {
   "cell_type": "code",
   "execution_count": null,
   "id": "85e9a2ba",
   "metadata": {},
   "outputs": [],
   "source": [
    "# Create a batch of inputs. This determines d_in and context_length.\n",
    "\n"
   ]
  }
 ],
 "metadata": {
  "language_info": {
   "name": "python"
  }
 },
 "nbformat": 4,
 "nbformat_minor": 5
}
