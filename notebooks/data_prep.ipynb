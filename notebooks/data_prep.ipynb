{
 "cells": [
  {
   "cell_type": "code",
   "execution_count": 2,
   "id": "a5cfd35b",
   "metadata": {},
   "outputs": [],
   "source": [
    "import torch\n",
    "import tiktoken"
   ]
  },
  {
   "cell_type": "code",
   "execution_count": 3,
   "id": "d4b56bad",
   "metadata": {},
   "outputs": [
    {
     "data": {
      "text/plain": [
       "'Had given orders that day to deny my door to every'"
      ]
     },
     "execution_count": 3,
     "metadata": {},
     "output_type": "execute_result"
    }
   ],
   "source": [
    "with open( \"gautier.txt\", \"r\" ) as f:\n",
    "    raw_text = f.read()\n",
    "\n",
    "raw_text[:50]"
   ]
  },
  {
   "cell_type": "code",
   "execution_count": 4,
   "id": "6308daeb",
   "metadata": {},
   "outputs": [],
   "source": [
    "tokenizer = tiktoken.get_encoding(\"gpt2\")"
   ]
  },
  {
   "cell_type": "code",
   "execution_count": 5,
   "id": "72db6aad",
   "metadata": {},
   "outputs": [],
   "source": [
    "enc_text = tokenizer.encode(raw_text)"
   ]
  },
  {
   "cell_type": "code",
   "execution_count": 6,
   "id": "8ac8088d",
   "metadata": {},
   "outputs": [
    {
     "name": "stdout",
     "output_type": "stream",
     "text": [
      "[25383, 1813, 6266, 326, 1110, 284, 10129, 616, 3420, 284, 790, 530, 26, 1719, 925, 257, 26322, 6323, 326, 3329]\n"
     ]
    }
   ],
   "source": [
    "print(enc_text[:20])"
   ]
  },
  {
   "cell_type": "code",
   "execution_count": 7,
   "id": "f6d69ffc",
   "metadata": {},
   "outputs": [
    {
     "name": "stdout",
     "output_type": "stream",
     "text": [
      "Had given\n"
     ]
    }
   ],
   "source": [
    "print( tokenizer.decode( enc_text[:2]))"
   ]
  },
  {
   "cell_type": "code",
   "execution_count": 8,
   "id": "1a834191",
   "metadata": {},
   "outputs": [
    {
     "data": {
      "text/plain": [
       "12805"
      ]
     },
     "execution_count": 8,
     "metadata": {},
     "output_type": "execute_result"
    }
   ],
   "source": [
    "len( enc_text)"
   ]
  },
  {
   "cell_type": "code",
   "execution_count": 9,
   "id": "85bc9f99",
   "metadata": {},
   "outputs": [
    {
     "name": "stdout",
     "output_type": "stream",
     "text": [
      "Input: Had Target:  given\n",
      "Input: Had given Target:  orders\n",
      "Input: Had given orders Target:  that\n",
      "Input: Had given orders that Target:  day\n",
      "Input: Had given orders that day Target:  to\n",
      "Input: Had given orders that day to Target:  deny\n",
      "Input: Had given orders that day to deny Target:  my\n",
      "Input: Had given orders that day to deny my Target:  door\n",
      "Input: Had given orders that day to deny my door Target:  to\n"
     ]
    }
   ],
   "source": [
    "for i in range(1,10):\n",
    "    print(\"Input:\", tokenizer.decode(enc_text[:i]), \"Target:\", tokenizer.decode([enc_text[i]]))"
   ]
  },
  {
   "cell_type": "code",
   "execution_count": 10,
   "id": "8af40fbb",
   "metadata": {},
   "outputs": [],
   "source": [
    "from torch.utils.data import Dataset, DataLoader\n",
    "\n",
    "\n",
    "class GPTDatasetV1(Dataset):\n",
    "    def __init__(self, txt, tokenizer, max_length, stride):\n",
    "        self.input_ids = []\n",
    "        self.target_ids = []\n",
    "\n",
    "        # Tokenize the entire text\n",
    "        token_ids = tokenizer.encode(txt, allowed_special={\"<|endoftext|>\"})\n",
    "        assert len(token_ids) > max_length, \"Number of tokenized inputs must at least be equal to max_length+1\"\n",
    "\n",
    "        # Use a sliding window to chunk the book into overlapping sequences of max_length\n",
    "        for i in range(0, len(token_ids) - max_length, stride):\n",
    "            input_chunk = token_ids[i:i + max_length]\n",
    "            target_chunk = token_ids[i + 1: i + max_length + 1]\n",
    "            self.input_ids.append(torch.tensor(input_chunk))\n",
    "            self.target_ids.append(torch.tensor(target_chunk))\n",
    "\n",
    "    def __len__(self):\n",
    "        return len(self.input_ids)\n",
    "\n",
    "    def __getitem__(self, idx):\n",
    "        return self.input_ids[idx], self.target_ids[idx]"
   ]
  },
  {
   "cell_type": "code",
   "execution_count": 11,
   "id": "4d7782f9",
   "metadata": {},
   "outputs": [],
   "source": [
    "def create_dataloader_v1(txt, batch_size=4, max_length=256, \n",
    "                         stride=128, shuffle=True, drop_last=True,\n",
    "                         num_workers=0):\n",
    "\n",
    "    # Initialize the tokenizer\n",
    "    tokenizer = tiktoken.get_encoding(\"gpt2\")\n",
    "\n",
    "    # Create dataset\n",
    "    dataset = GPTDatasetV1(txt, tokenizer, max_length, stride)\n",
    "\n",
    "    # Create dataloader\n",
    "    dataloader = DataLoader(\n",
    "        dataset,\n",
    "        batch_size=batch_size,\n",
    "        shuffle=shuffle,\n",
    "        drop_last=drop_last,\n",
    "        num_workers=num_workers\n",
    "    )\n",
    "\n",
    "    return dataloader"
   ]
  },
  {
   "cell_type": "code",
   "execution_count": 12,
   "id": "218cf36e",
   "metadata": {},
   "outputs": [
    {
     "name": "stdout",
     "output_type": "stream",
     "text": [
      "Inputs:\n",
      " tensor([[25383,  1813,  6266,   326],\n",
      "        [ 1110,   284, 10129,   616],\n",
      "        [ 3420,   284,   790,   530],\n",
      "        [   26,  1719,   925,   257],\n",
      "        [26322,  6323,   326,  3329],\n",
      "        [  326,   314,   561,   466],\n",
      "        [ 2147,    11,   314,   750],\n",
      "        [  407,  4601,   284,   307]])\n",
      "\n",
      "Targets:\n",
      " tensor([[ 1813,  6266,   326,  1110],\n",
      "        [  284, 10129,   616,  3420],\n",
      "        [  284,   790,   530,    26],\n",
      "        [ 1719,   925,   257, 26322],\n",
      "        [ 6323,   326,  3329,   326],\n",
      "        [  314,   561,   466,  2147],\n",
      "        [   11,   314,   750,   407],\n",
      "        [ 4601,   284,   307, 24069]])\n"
     ]
    }
   ],
   "source": [
    "dataloader = create_dataloader_v1(raw_text, batch_size=8, max_length=4, stride=4, shuffle=False)\n",
    "\n",
    "data_iter = iter(dataloader)\n",
    "inputs, targets = next(data_iter)\n",
    "print(\"Inputs:\\n\", inputs)\n",
    "print(\"\\nTargets:\\n\", targets)"
   ]
  },
  {
   "cell_type": "code",
   "execution_count": 13,
   "id": "c2acccc9",
   "metadata": {},
   "outputs": [
    {
     "name": "stdout",
     "output_type": "stream",
     "text": [
      "Had given orders that\n",
      " day to deny my\n",
      " door to every one\n",
      "; having made a\n",
      " solemn resolution that morning\n",
      " that I would do\n",
      " nothing, I did\n",
      " not wish to be\n"
     ]
    }
   ],
   "source": [
    "# to apply the tokenizer's decoder to these IDs, the rows of the tensor `inputs` have to be converted into lists:\n",
    "for row in inputs:\n",
    "    print( tokenizer.decode( row.tolist() ) )"
   ]
  },
  {
   "cell_type": "code",
   "execution_count": 14,
   "id": "01fd2ac3",
   "metadata": {},
   "outputs": [
    {
     "name": "stdout",
     "output_type": "stream",
     "text": [
      "Parameter containing:\n",
      "tensor([[ 1.3787e+00,  1.2318e+00, -1.1967e+00],\n",
      "        [ 5.3181e-01,  1.3624e+00,  1.6414e+00],\n",
      "        [ 6.2029e-01,  1.8173e+00, -1.4835e+00],\n",
      "        [-9.3286e-01, -1.4349e+00, -2.0287e+00],\n",
      "        [ 6.2431e-01, -5.2932e-01, -9.0678e-02],\n",
      "        [ 6.5739e-01,  1.0337e-03, -1.1941e+00]], requires_grad=True)\n"
     ]
    }
   ],
   "source": [
    "# we don't send these IDs to the LLM for training; we associate a vector a.k.a. tensor with each ID and then train the LLM on the vectors\n",
    "# as a first example, let's create embedding vectors of length 3 for each token in a vocabulary of 6 tokens\n",
    "vocab_size = 6\n",
    "output_dim = 3\n",
    "embedding = torch.nn.Embedding( vocab_size, output_dim )\n",
    "print(embedding.weight)"
   ]
  },
  {
   "cell_type": "code",
   "execution_count": 15,
   "id": "6350cfb4",
   "metadata": {},
   "outputs": [
    {
     "data": {
      "text/plain": [
       "tensor([[ 1.3787e+00,  1.2318e+00, -1.1967e+00],\n",
       "        [ 5.3181e-01,  1.3624e+00,  1.6414e+00],\n",
       "        [ 6.2029e-01,  1.8173e+00, -1.4835e+00],\n",
       "        [-9.3286e-01, -1.4349e+00, -2.0287e+00],\n",
       "        [ 6.2431e-01, -5.2932e-01, -9.0678e-02],\n",
       "        [ 6.5739e-01,  1.0337e-03, -1.1941e+00]])"
      ]
     },
     "execution_count": 15,
     "metadata": {},
     "output_type": "execute_result"
    }
   ],
   "source": [
    "# if you just want the tensor part of this without the requires_grad=True bit\n",
    "# method 1:\n",
    "embedding.weight.data"
   ]
  },
  {
   "cell_type": "code",
   "execution_count": 16,
   "id": "5dd5b6cb",
   "metadata": {},
   "outputs": [
    {
     "data": {
      "text/plain": [
       "tensor([[ 1.3787e+00,  1.2318e+00, -1.1967e+00],\n",
       "        [ 5.3181e-01,  1.3624e+00,  1.6414e+00],\n",
       "        [ 6.2029e-01,  1.8173e+00, -1.4835e+00],\n",
       "        [-9.3286e-01, -1.4349e+00, -2.0287e+00],\n",
       "        [ 6.2431e-01, -5.2932e-01, -9.0678e-02],\n",
       "        [ 6.5739e-01,  1.0337e-03, -1.1941e+00]])"
      ]
     },
     "execution_count": 16,
     "metadata": {},
     "output_type": "execute_result"
    }
   ],
   "source": [
    "# if you just want the tensor part of this without the requires_grad=True bit\n",
    "# method 1:\n",
    "embedding.weight.detach()"
   ]
  },
  {
   "cell_type": "code",
   "execution_count": 17,
   "id": "57033783",
   "metadata": {},
   "outputs": [],
   "source": [
    "# call this A for some examples:\n",
    "A = embedding.weight.detach()"
   ]
  },
  {
   "cell_type": "code",
   "execution_count": 18,
   "id": "69e49776",
   "metadata": {},
   "outputs": [
    {
     "data": {
      "text/plain": [
       "tensor([ 1.3787,  1.2318, -1.1967])"
      ]
     },
     "execution_count": 18,
     "metadata": {},
     "output_type": "execute_result"
    }
   ],
   "source": [
    "# first row:\n",
    "A[0]"
   ]
  },
  {
   "cell_type": "code",
   "execution_count": 19,
   "id": "10a3b5ce",
   "metadata": {},
   "outputs": [
    {
     "data": {
      "text/plain": [
       "tensor([0.5318, 1.3624, 1.6414])"
      ]
     },
     "execution_count": 19,
     "metadata": {},
     "output_type": "execute_result"
    }
   ],
   "source": [
    "# second row:\n",
    "A[1]"
   ]
  },
  {
   "cell_type": "code",
   "execution_count": 20,
   "id": "6e8a8dee",
   "metadata": {},
   "outputs": [
    {
     "data": {
      "text/plain": [
       "tensor([ 1.3787,  0.5318,  0.6203, -0.9329,  0.6243,  0.6574])"
      ]
     },
     "execution_count": 20,
     "metadata": {},
     "output_type": "execute_result"
    }
   ],
   "source": [
    "# first column:\n",
    "A[:,0]"
   ]
  },
  {
   "cell_type": "code",
   "execution_count": 21,
   "id": "adbf6acf",
   "metadata": {},
   "outputs": [
    {
     "data": {
      "text/plain": [
       "tensor(1.6414)"
      ]
     },
     "execution_count": 21,
     "metadata": {},
     "output_type": "execute_result"
    }
   ],
   "source": [
    "# element in row 2, column 3:\n",
    "A[1,2]"
   ]
  },
  {
   "cell_type": "code",
   "execution_count": 22,
   "id": "6ed85882",
   "metadata": {},
   "outputs": [
    {
     "name": "stdout",
     "output_type": "stream",
     "text": [
      "tensor([1.2000, 2.1000])\n",
      "tensor([2.7000, 1.5000])\n"
     ]
    }
   ],
   "source": [
    "# to create a tensor directly:\n",
    "x = torch.tensor([1.2,2.1])\n",
    "y = torch.tensor([2.7,1.5])\n",
    "print(x) \n",
    "print(y)"
   ]
  },
  {
   "cell_type": "code",
   "execution_count": 23,
   "id": "2ee3b6f8",
   "metadata": {},
   "outputs": [
    {
     "data": {
      "text/plain": [
       "tensor(6.3900)"
      ]
     },
     "execution_count": 23,
     "metadata": {},
     "output_type": "execute_result"
    }
   ],
   "source": [
    "torch.dot( x,y)"
   ]
  },
  {
   "cell_type": "code",
   "execution_count": 24,
   "id": "43b8acfd",
   "metadata": {},
   "outputs": [
    {
     "data": {
      "text/plain": [
       "6.390000000000001"
      ]
     },
     "execution_count": 24,
     "metadata": {},
     "output_type": "execute_result"
    }
   ],
   "source": [
    "# check:\n",
    "1.2*2.7 + 2.1*1.5"
   ]
  },
  {
   "cell_type": "code",
   "execution_count": null,
   "id": "6d843b3a",
   "metadata": {},
   "outputs": [],
   "source": []
  }
 ],
 "metadata": {
  "kernelspec": {
   "display_name": ".env",
   "language": "python",
   "name": "python3"
  },
  "language_info": {
   "codemirror_mode": {
    "name": "ipython",
    "version": 3
   },
   "file_extension": ".py",
   "mimetype": "text/x-python",
   "name": "python",
   "nbconvert_exporter": "python",
   "pygments_lexer": "ipython3",
   "version": "3.12.1"
  }
 },
 "nbformat": 4,
 "nbformat_minor": 5
}
