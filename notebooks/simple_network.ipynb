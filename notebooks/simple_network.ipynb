{
 "cells": [
  {
   "cell_type": "code",
   "execution_count": 1,
   "id": "8ae6bfc8",
   "metadata": {},
   "outputs": [],
   "source": [
    "import torch \n",
    "import torch.nn as nn"
   ]
  },
  {
   "cell_type": "code",
   "execution_count": 2,
   "id": "7c94de52",
   "metadata": {},
   "outputs": [
    {
     "data": {
      "text/plain": [
       "tensor([[ 0.2752, -0.0121,  0.4787]])"
      ]
     },
     "execution_count": 2,
     "metadata": {},
     "output_type": "execute_result"
    }
   ],
   "source": [
    "# one way to make some typical input:\n",
    "input = torch.randn(1, 3)\n",
    "input"
   ]
  },
  {
   "cell_type": "code",
   "execution_count": 3,
   "id": "ea5ba825",
   "metadata": {},
   "outputs": [
    {
     "data": {
      "text/plain": [
       "tensor([[1., 2., 3.]])"
      ]
     },
     "execution_count": 3,
     "metadata": {},
     "output_type": "execute_result"
    }
   ],
   "source": [
    "input = torch.tensor([[1.0, 2.0, 3.0]])\n",
    "input"
   ]
  },
  {
   "cell_type": "code",
   "execution_count": 4,
   "id": "94fb7623",
   "metadata": {},
   "outputs": [],
   "source": [
    "# a simple neural network with one hidden layer\n",
    "model = nn.Sequential(\n",
    "    nn.Linear(3, 2),  # input layer to hidden layer, take 3 inputs, output 2 values\n",
    "    nn.ReLU(),        # a nonlinear activation function\n",
    "    nn.Linear(2, 1)   # hidden layer to output layer, take 2 inputs, output 1 value\n",
    ")"
   ]
  },
  {
   "cell_type": "code",
   "execution_count": 5,
   "id": "91a8877d",
   "metadata": {},
   "outputs": [
    {
     "data": {
      "text/plain": [
       "tensor([[ 2.0000,  1.0000, -1.0000],\n",
       "        [-2.4000, -1.0000,  1.0000]])"
      ]
     },
     "execution_count": 5,
     "metadata": {},
     "output_type": "execute_result"
    }
   ],
   "source": [
    "model[0].weight.data = torch.tensor([[2.0, 1.0, -1.0],\n",
    "                                     [-2.4, -1.0, 1.0]])\n",
    "model[0].weight.data"
   ]
  },
  {
   "cell_type": "code",
   "execution_count": 6,
   "id": "8349eb33",
   "metadata": {},
   "outputs": [],
   "source": [
    "model[0].bias.data = torch.tensor([0.0, 0.0])"
   ]
  },
  {
   "cell_type": "code",
   "execution_count": 7,
   "id": "78c17336",
   "metadata": {},
   "outputs": [
    {
     "data": {
      "text/plain": [
       "tensor([[ 1.0000, -1.4000]], grad_fn=<AddBackward0>)"
      ]
     },
     "execution_count": 7,
     "metadata": {},
     "output_type": "execute_result"
    }
   ],
   "source": [
    "input @ model[0].weight.T + model[0].bias.data"
   ]
  },
  {
   "cell_type": "code",
   "execution_count": 8,
   "id": "5b963f2c",
   "metadata": {},
   "outputs": [
    {
     "data": {
      "text/plain": [
       "tensor([[1., 0.]])"
      ]
     },
     "execution_count": 8,
     "metadata": {},
     "output_type": "execute_result"
    }
   ],
   "source": [
    "activation = nn.ReLU()\n",
    "middle = activation(input @ model[0].weight.data.T + model[0].bias.data)\n",
    "middle"
   ]
  },
  {
   "cell_type": "code",
   "execution_count": 9,
   "id": "cc72dcb7",
   "metadata": {},
   "outputs": [
    {
     "data": {
      "text/plain": [
       "tensor([[0.6910]])"
      ]
     },
     "execution_count": 9,
     "metadata": {},
     "output_type": "execute_result"
    }
   ],
   "source": [
    "middle @ model[2].weight.data.T + model[2].bias.data"
   ]
  },
  {
   "cell_type": "code",
   "execution_count": 10,
   "id": "31146ef0",
   "metadata": {},
   "outputs": [
    {
     "data": {
      "text/plain": [
       "tensor([[0.6910]], grad_fn=<AddmmBackward0>)"
      ]
     },
     "execution_count": 10,
     "metadata": {},
     "output_type": "execute_result"
    }
   ],
   "source": [
    "model(input)"
   ]
  },
  {
   "cell_type": "code",
   "execution_count": null,
   "id": "aadaa7ed",
   "metadata": {},
   "outputs": [],
   "source": []
  }
 ],
 "metadata": {
  "kernelspec": {
   "display_name": ".env",
   "language": "python",
   "name": "python3"
  },
  "language_info": {
   "codemirror_mode": {
    "name": "ipython",
    "version": 3
   },
   "file_extension": ".py",
   "mimetype": "text/x-python",
   "name": "python",
   "nbconvert_exporter": "python",
   "pygments_lexer": "ipython3",
   "version": "3.12.1"
  }
 },
 "nbformat": 4,
 "nbformat_minor": 5
}
