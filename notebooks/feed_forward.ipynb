{
 "cells": [
  {
   "cell_type": "code",
   "execution_count": 14,
   "id": "6b10d8c7",
   "metadata": {},
   "outputs": [],
   "source": [
    "import torch\n",
    "import torch.nn as nn"
   ]
  },
  {
   "cell_type": "code",
   "execution_count": 18,
   "id": "101962d6",
   "metadata": {},
   "outputs": [],
   "source": [
    "GPT_CONFIG_124M = {\n",
    "    \"vocab_size\": 50257,    # Vocabulary size\n",
    "    \"context_length\": 1024, # Context length\n",
    "    \"emb_dim\": 768,         # Embedding dimension\n",
    "    \"n_heads\": 12,          # Number of attention heads\n",
    "    \"n_layers\": 12,         # Number of layers\n",
    "    \"drop_rate\": 0.1,       # Dropout rate\n",
    "    \"qkv_bias\": False       # Query-Key-Value bias\n",
    "}"
   ]
  },
  {
   "cell_type": "code",
   "execution_count": null,
   "id": "dc9ac8e9",
   "metadata": {},
   "outputs": [],
   "source": [
    "# a nonlinear activation function: GELU (Gaussian Error Linear Unit)\n",
    "# non linear means the output is not directly proportional to the input\n",
    "\n",
    "# takes in a tensor of a certain shape and return a tensor of the same shape\n",
    "class GELU(nn.Module):\n",
    "    def __init__(self):\n",
    "        super().__init__()\n",
    "\n",
    "    def forward(self, x):\n",
    "        return 0.5 * x * (1 + torch.tanh(\n",
    "            torch.sqrt(torch.tensor(2.0 / torch.pi)) * \n",
    "            (x + 0.044715 * torch.pow(x, 3))\n",
    "        ))"
   ]
  },
  {
   "cell_type": "code",
   "execution_count": null,
   "id": "dfb6f6c2",
   "metadata": {},
   "outputs": [],
   "source": [
    "# feed forward is an implementation of the feed forward neural network\n",
    "# it consists of two linear layers with a GELU activation function in between\n",
    "class FeedForward(nn.Module):\n",
    "    def __init__(self, cfg):\n",
    "        super().__init__()\n",
    "        self.layers = nn.Sequential(\n",
    "            nn.Linear(cfg[\"emb_dim\"], 4 * cfg[\"emb_dim\"]),\n",
    "            GELU(),\n",
    "            nn.Linear(4 * cfg[\"emb_dim\"], cfg[\"emb_dim\"]),\n",
    "        )\n",
    "\n",
    "    def forward(self, x):\n",
    "        return self.layers(x)"
   ]
  },
  {
   "cell_type": "code",
   "execution_count": 17,
   "id": "1e1a3c77",
   "metadata": {},
   "outputs": [],
   "source": [
    "input = torch.randn( 3,768 ) # batch size of 3, embedding dimension of 768\n"
   ]
  },
  {
   "cell_type": "code",
   "execution_count": 21,
   "id": "c9ecb711",
   "metadata": {},
   "outputs": [],
   "source": [
    "ff = FeedForward( GPT_CONFIG_124M )\n",
    "output = ff( input )"
   ]
  },
  {
   "cell_type": "code",
   "execution_count": 22,
   "id": "3e015b5d",
   "metadata": {},
   "outputs": [
    {
     "data": {
      "text/plain": [
       "torch.Size([3, 768])"
      ]
     },
     "execution_count": 22,
     "metadata": {},
     "output_type": "execute_result"
    }
   ],
   "source": [
    "output.shape"
   ]
  },
  {
   "cell_type": "code",
   "execution_count": 23,
   "id": "2da2a911",
   "metadata": {},
   "outputs": [
    {
     "data": {
      "text/plain": [
       "tensor([[ 0.2758, -0.4343, -0.0090,  ...,  0.2568,  0.0276,  0.2992],\n",
       "        [-0.3144,  0.2057,  0.2628,  ..., -0.1688,  0.0272,  0.0137],\n",
       "        [-0.0425,  0.1827,  0.0589,  ..., -0.2293,  0.1868, -0.1039]],\n",
       "       grad_fn=<AddmmBackward0>)"
      ]
     },
     "execution_count": 23,
     "metadata": {},
     "output_type": "execute_result"
    }
   ],
   "source": [
    "output"
   ]
  },
  {
   "cell_type": "code",
   "execution_count": 24,
   "id": "6a35928b",
   "metadata": {},
   "outputs": [],
   "source": [
    "output = ff( output )"
   ]
  },
  {
   "cell_type": "code",
   "execution_count": 25,
   "id": "d3ef3610",
   "metadata": {},
   "outputs": [
    {
     "data": {
      "text/plain": [
       "torch.Size([3, 768])"
      ]
     },
     "execution_count": 25,
     "metadata": {},
     "output_type": "execute_result"
    }
   ],
   "source": [
    "output.shape\n"
   ]
  },
  {
   "cell_type": "code",
   "execution_count": 26,
   "id": "467ae3ea",
   "metadata": {},
   "outputs": [
    {
     "data": {
      "text/plain": [
       "tensor([[-0.0260, -0.0145, -0.0617,  ...,  0.0376,  0.0079, -0.0329],\n",
       "        [-0.0266,  0.0184, -0.0061,  ..., -0.0358,  0.0233,  0.0525],\n",
       "        [-0.0115, -0.0110,  0.0843,  ..., -0.0241, -0.0542, -0.0410]],\n",
       "       grad_fn=<AddmmBackward0>)"
      ]
     },
     "execution_count": 26,
     "metadata": {},
     "output_type": "execute_result"
    }
   ],
   "source": [
    "output"
   ]
  }
 ],
 "metadata": {
  "kernelspec": {
   "display_name": ".env",
   "language": "python",
   "name": "python3"
  },
  "language_info": {
   "codemirror_mode": {
    "name": "ipython",
    "version": 3
   },
   "file_extension": ".py",
   "mimetype": "text/x-python",
   "name": "python",
   "nbconvert_exporter": "python",
   "pygments_lexer": "ipython3",
   "version": "3.12.1"
  }
 },
 "nbformat": 4,
 "nbformat_minor": 5
}
