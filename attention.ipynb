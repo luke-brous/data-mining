{
 "cells": [
  {
   "cell_type": "code",
   "execution_count": 1,
   "id": "f93eaee9",
   "metadata": {},
   "outputs": [],
   "source": [
    "import torch\n",
    "import tiktoken"
   ]
  },
  {
   "cell_type": "code",
   "execution_count": 2,
   "id": "98df70ed",
   "metadata": {},
   "outputs": [],
   "source": [
    "raw_text = \"This is my dog Chico. \""
   ]
  },
  {
   "cell_type": "code",
   "execution_count": 3,
   "id": "3531f937",
   "metadata": {},
   "outputs": [],
   "source": [
    "tokenizer = tiktoken.get_encoding(\"gpt2\")"
   ]
  },
  {
   "cell_type": "code",
   "execution_count": 4,
   "id": "e6c7fd1e",
   "metadata": {},
   "outputs": [
    {
     "name": "stdout",
     "output_type": "stream",
     "text": [
      "[1212, 318, 616, 3290, 609, 3713, 13, 220]\n"
     ]
    }
   ],
   "source": [
    "enc_text = tokenizer.encode_ordinary( raw_text )\n",
    "print( enc_text )"
   ]
  },
  {
   "cell_type": "code",
   "execution_count": 6,
   "id": "f05a2fe3",
   "metadata": {},
   "outputs": [
    {
     "name": "stdout",
     "output_type": "stream",
     "text": [
      "Parameter containing:\n",
      "tensor([[-0.7386,  0.1657, -0.2903,  0.2391],\n",
      "        [-0.0572,  2.1028,  0.8419, -0.5429],\n",
      "        [ 0.6766, -0.2057,  1.0335,  1.8245],\n",
      "        [ 1.7029, -0.5684, -1.3094,  0.5871],\n",
      "        [ 1.4957,  1.4431,  0.7753, -0.0880]], requires_grad=True)\n"
     ]
    }
   ],
   "source": [
    "vocab_size = 5\n",
    "output_dim = 4\n",
    "inputs = torch.nn.Embedding( vocab_size, output_dim )\n",
    "print(inputs.weight)"
   ]
  },
  {
   "cell_type": "code",
   "execution_count": 7,
   "id": "85d40626",
   "metadata": {},
   "outputs": [
    {
     "data": {
      "text/plain": [
       "tensor([[-0.7386,  0.1657, -0.2903,  0.2391],\n",
       "        [-0.0572,  2.1028,  0.8419, -0.5429],\n",
       "        [ 0.6766, -0.2057,  1.0335,  1.8245],\n",
       "        [ 1.7029, -0.5684, -1.3094,  0.5871],\n",
       "        [ 1.4957,  1.4431,  0.7753, -0.0880]])"
      ]
     },
     "execution_count": 7,
     "metadata": {},
     "output_type": "execute_result"
    }
   ],
   "source": [
    "inputs = inputs.weight.data\n",
    "inputs"
   ]
  },
  {
   "cell_type": "code",
   "execution_count": 8,
   "id": "a5b66784",
   "metadata": {},
   "outputs": [
    {
     "data": {
      "text/plain": [
       "torch.Size([5, 4])"
      ]
     },
     "execution_count": 8,
     "metadata": {},
     "output_type": "execute_result"
    }
   ],
   "source": [
    "inputs.shape"
   ]
  },
  {
   "cell_type": "code",
   "execution_count": 9,
   "id": "a65879fd",
   "metadata": {},
   "outputs": [
    {
     "name": "stdout",
     "output_type": "stream",
     "text": [
      "[-0.7386221885681152, 0.16569848358631134, -0.2903316020965576, 0.23905405402183533]\n",
      "[-0.057237159460783005, 2.102775812149048, 0.8418706059455872, -0.5428633689880371]\n",
      "[0.6765967607498169, -0.20573462545871735, 1.033491849899292, 1.8245164155960083]\n",
      "[1.702863097190857, -0.5684067010879517, -1.3093589544296265, 0.5870882272720337]\n",
      "[1.4957441091537476, 1.443142294883728, 0.7753391861915588, -0.08796791732311249]\n"
     ]
    }
   ],
   "source": [
    "for row in inputs:\n",
    "    print( row.tolist() )"
   ]
  },
  {
   "cell_type": "code",
   "execution_count": 10,
   "id": "f08627da",
   "metadata": {},
   "outputs": [],
   "source": [
    "x = torch.tensor([1.1,2.3])\n",
    "y = torch.tensor([3.4,-2.1])\n"
   ]
  },
  {
   "cell_type": "code",
   "execution_count": 11,
   "id": "698ae2ee",
   "metadata": {},
   "outputs": [
    {
     "data": {
      "text/plain": [
       "tensor(-1.0900)"
      ]
     },
     "execution_count": 11,
     "metadata": {},
     "output_type": "execute_result"
    }
   ],
   "source": [
    "torch.dot(x,y)"
   ]
  },
  {
   "cell_type": "code",
   "execution_count": 12,
   "id": "bc358de7",
   "metadata": {},
   "outputs": [
    {
     "name": "stdout",
     "output_type": "stream",
     "text": [
      "tensor([ 0.6766, -0.2057,  1.0335,  1.8245])\n"
     ]
    }
   ],
   "source": [
    "query = inputs[2]\n",
    "print( query )"
   ]
  },
  {
   "cell_type": "code",
   "execution_count": 13,
   "id": "f5857bff",
   "metadata": {},
   "outputs": [
    {
     "name": "stdout",
     "output_type": "stream",
     "text": [
      "tensor(-0.3977)\n",
      "tensor(-0.5917)\n",
      "tensor(4.8971)\n",
      "tensor(0.9870)\n",
      "tensor(1.3559)\n"
     ]
    }
   ],
   "source": [
    "for i in range(len(inputs)):\n",
    "    print( torch.dot( query, inputs[i] ) )"
   ]
  },
  {
   "cell_type": "code",
   "execution_count": 16,
   "id": "a660ea04",
   "metadata": {},
   "outputs": [
    {
     "name": "stdout",
     "output_type": "stream",
     "text": [
      "tensor([-0.3977, -0.5917,  4.8971,  0.9870,  1.3559])\n"
     ]
    }
   ],
   "source": [
    "attention_scores_2 = torch.zeros(len(inputs)) \n",
    "for i in range(len(inputs)):\n",
    "    attention_scores_2[i] = torch.dot( query, inputs[i] )\n",
    "print( attention_scores_2 )"
   ]
  },
  {
   "cell_type": "code",
   "execution_count": 19,
   "id": "639bd6bd",
   "metadata": {},
   "outputs": [],
   "source": [
    "# normalize the attention scores using the softmax function\n",
    "# def softmax(x):\n",
    "#     torch.exp(x) / torch.exp(x).sum()"
   ]
  },
  {
   "cell_type": "code",
   "execution_count": 21,
   "id": "f702a8bc",
   "metadata": {},
   "outputs": [
    {
     "data": {
      "text/plain": [
       "tensor([0.0047, 0.0039, 0.9450, 0.0189, 0.0274])"
      ]
     },
     "execution_count": 21,
     "metadata": {},
     "output_type": "execute_result"
    }
   ],
   "source": [
    "attention_scores_2 = torch.softmax(attention_scores_2, dim=0)\n",
    "attention_scores_2"
   ]
  },
  {
   "cell_type": "code",
   "execution_count": 22,
   "id": "514c629e",
   "metadata": {},
   "outputs": [
    {
     "data": {
      "text/plain": [
       "tensor(1.)"
      ]
     },
     "execution_count": 22,
     "metadata": {},
     "output_type": "execute_result"
    }
   ],
   "source": [
    "attention_scores_2.sum()"
   ]
  },
  {
   "cell_type": "code",
   "execution_count": 23,
   "id": "055486c9",
   "metadata": {},
   "outputs": [
    {
     "data": {
      "text/plain": [
       "tensor([ 0.7089, -0.1567,  0.9750,  1.7319])"
      ]
     },
     "execution_count": 23,
     "metadata": {},
     "output_type": "execute_result"
    }
   ],
   "source": [
    "context_vector_2 = torch.zeros( query.shape )\n",
    "for i in range(len(attention_scores_2)):\n",
    "    context_vector_2 += attention_scores_2[i] * inputs[i]\n",
    "context_vector_2"
   ]
  },
  {
   "cell_type": "code",
   "execution_count": null,
   "id": "197af71d",
   "metadata": {},
   "outputs": [],
   "source": []
  }
 ],
 "metadata": {
  "kernelspec": {
   "display_name": ".env",
   "language": "python",
   "name": "python3"
  },
  "language_info": {
   "codemirror_mode": {
    "name": "ipython",
    "version": 3
   },
   "file_extension": ".py",
   "mimetype": "text/x-python",
   "name": "python",
   "nbconvert_exporter": "python",
   "pygments_lexer": "ipython3",
   "version": "3.12.1"
  }
 },
 "nbformat": 4,
 "nbformat_minor": 5
}
